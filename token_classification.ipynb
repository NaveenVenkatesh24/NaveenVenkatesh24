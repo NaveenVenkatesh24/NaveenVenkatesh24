{
  "nbformat": 4,
  "nbformat_minor": 0,
  "metadata": {
    "colab": {
      "provenance": [],
      "include_colab_link": true
    },
    "kernelspec": {
      "name": "python3",
      "display_name": "Python 3"
    },
    "language_info": {
      "name": "python"
    }
  },
  "cells": [
    {
      "cell_type": "markdown",
      "metadata": {
        "id": "view-in-github",
        "colab_type": "text"
      },
      "source": [
        "<a href=\"https://colab.research.google.com/github/NaveenVenkatesh24/NaveenVenkatesh24/blob/main/token_classification.ipynb\" target=\"_parent\"><img src=\"https://colab.research.google.com/assets/colab-badge.svg\" alt=\"Open In Colab\"/></a>"
      ]
    },
    {
      "cell_type": "code",
      "execution_count": null,
      "metadata": {
        "id": "u-INS88EGg5r"
      },
      "outputs": [],
      "source": [
        "!pip install -r requirements.txt"
      ]
    },
    {
      "cell_type": "code",
      "source": [
        "%%writefile app.py\n",
        "import streamlit as st\n",
        "import spacy\n",
        "\n",
        "class TokenClassification:\n",
        "\n",
        "    def __init__(self):\n",
        "        # Load the English language model in SpaCy\n",
        "        self.nlp = spacy.load(\"en_core_web_sm\")\n",
        "\n",
        "    def text_tokenize(self, text: str) -> tuple:\n",
        "        \"\"\"\n",
        "        Tokenizes the input text and extracts the entities and their labels.\n",
        "\n",
        "        Args:\n",
        "            text (str): The input text to tokenize.\n",
        "\n",
        "        Returns:\n",
        "            tuple: A tuple containing a list of entities and a list of tokens with their labels.\n",
        "        \"\"\"\n",
        "\n",
        "        # Apply the model to the text\n",
        "        doc = self.nlp(text)\n",
        "\n",
        "        # Extract the entities and their labels from the document\n",
        "        entities = [(ent.text, ent.label_) for ent in doc.ents]\n",
        "\n",
        "        # Convert the document to a list of tokens with their labels\n",
        "        tokens = [(token.text, token.ent_type_) for token in doc]\n",
        "\n",
        "        return entities, tokens\n",
        "\n",
        "    def streamlit_interface(self) -> None:\n",
        "        \"\"\"\n",
        "        Defines the Streamlit user interface and logic.\n",
        "        \"\"\"\n",
        "\n",
        "        # Set up the Streamlit app\n",
        "        st.title(\"Token Classification\")\n",
        "\n",
        "        # Allow the user to input some text\n",
        "        text = st.text_input(\"Enter some text:\")\n",
        "\n",
        "        # When the user clicks the \"Predict\" button, apply the model and display the output\n",
        "        if st.button(\"Predict\"):\n",
        "            entities, tokens = self.text_tokanize(text)\n",
        "\n",
        "            # Display the tokens with their labels horizontally\n",
        "            token_html = \"\"\n",
        "            for token, label in tokens:\n",
        "                if label:\n",
        "                    token_html += f\"<span style='background-color: #999999; color:#00ffff; padding: 2px 4px; border-radius: 4px; margin-right: 4px;'>{token}({label})</span>\"\n",
        "                else:\n",
        "                    token_html += f\"{token} \"\n",
        "\n",
        "            # Display the entities with their labels horizontally\n",
        "            entity_html = \"\"\n",
        "            for entity, label in entities:\n",
        "                entity_html += f\"<span style='background-color: #999999; color:#00ffff; padding: 2px 4px; border-radius: 4px; margin-right: 4px;'>{entity}({label})</span>\"\n",
        "\n",
        "            # Output the tokens and entities horizontally\n",
        "            st.markdown(f\"<p>{token_html}</p><p>{entity_html}</p>\", unsafe_allow_html=True)\n",
        "\n",
        "\n",
        "if __name__ == \"__main__\":\n",
        "    token_class = TokenClassification()\n",
        "    token_class.streamlit_interface()"
      ],
      "metadata": {
        "id": "3U6bwjVEIOIj"
      },
      "execution_count": null,
      "outputs": []
    },
    {
      "cell_type": "code",
      "source": [
        "!streamlit run app.py & npx localtunnel --port 8501"
      ],
      "metadata": {
        "id": "R2fBXRm-IVGA"
      },
      "execution_count": null,
      "outputs": []
    }
  ]
}